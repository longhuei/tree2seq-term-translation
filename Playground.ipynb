{
 "cells": [
  {
   "cell_type": "code",
   "execution_count": null,
   "metadata": {},
   "outputs": [],
   "source": [
    "import xml.etree.ElementTree as ET\n",
    "\n",
    "from coburg.preprocess import *\n",
    "\n",
    "%load_ext autoreload\n",
    "%autoreload 2"
   ]
  },
  {
   "cell_type": "code",
   "execution_count": null,
   "metadata": {},
   "outputs": [],
   "source": [
    "tree = ET.parse('data/IATE_export_29012018.tbx')"
   ]
  },
  {
   "cell_type": "code",
   "execution_count": null,
   "metadata": {},
   "outputs": [],
   "source": [
    "root = tree.getroot()"
   ]
  },
  {
   "cell_type": "code",
   "execution_count": null,
   "metadata": {},
   "outputs": [],
   "source": [
    "root.attrib"
   ]
  },
  {
   "cell_type": "code",
   "execution_count": null,
   "metadata": {},
   "outputs": [],
   "source": [
    "for child in root:\n",
    "    print(child.tag, child.attrib)"
   ]
  },
  {
   "cell_type": "code",
   "execution_count": null,
   "metadata": {},
   "outputs": [],
   "source": [
    "root[1][0][0].attrib"
   ]
  },
  {
   "cell_type": "code",
   "execution_count": null,
   "metadata": {},
   "outputs": [],
   "source": [
    "root[1][0][1][1]"
   ]
  },
  {
   "cell_type": "code",
   "execution_count": null,
   "metadata": {},
   "outputs": [],
   "source": [
    "for i in root[1][0][1].iter('langSet'):\n",
    "    lang.get('{http://www.w3.org/XML/1998/namespace}lang')\n",
    "    "
   ]
  },
  {
   "cell_type": "code",
   "execution_count": null,
   "metadata": {},
   "outputs": [],
   "source": [
    "p = 0\n",
    "for i in root[1][0].iter('termEntry'):\n",
    "    p += 1"
   ]
  },
  {
   "cell_type": "code",
   "execution_count": null,
   "metadata": {},
   "outputs": [],
   "source": [
    "p"
   ]
  },
  {
   "cell_type": "code",
   "execution_count": null,
   "metadata": {},
   "outputs": [],
   "source": [
    "d = read_data('en', 'cs')"
   ]
  },
  {
   "cell_type": "code",
   "execution_count": null,
   "metadata": {},
   "outputs": [],
   "source": [
    "l = set()\n",
    "for term in tqdm(root[1][0].iter('termEntry')):\n",
    "    for term_lang in term.iter('langSet'):\n",
    "        lang = term_lang.get('{http://www.w3.org/XML/1998/namespace}lang')\n",
    "        l.update((lang,))"
   ]
  },
  {
   "cell_type": "code",
   "execution_count": null,
   "metadata": {},
   "outputs": [],
   "source": [
    "l"
   ]
  },
  {
   "cell_type": "code",
   "execution_count": null,
   "metadata": {},
   "outputs": [],
   "source": [
    "s = set()"
   ]
  },
  {
   "cell_type": "code",
   "execution_count": null,
   "metadata": {},
   "outputs": [],
   "source": [
    "s.update('eh')"
   ]
  },
  {
   "cell_type": "code",
   "execution_count": null,
   "metadata": {},
   "outputs": [],
   "source": [
    "s"
   ]
  },
  {
   "cell_type": "code",
   "execution_count": null,
   "metadata": {},
   "outputs": [],
   "source": [
    "entries, ent_dic = read_data()"
   ]
  },
  {
   "cell_type": "code",
   "execution_count": null,
   "metadata": {},
   "outputs": [],
   "source": [
    "a = [1, 2, 3]"
   ]
  },
  {
   "cell_type": "code",
   "execution_count": null,
   "metadata": {},
   "outputs": [],
   "source": [
    "a.remove(2)"
   ]
  },
  {
   "cell_type": "code",
   "execution_count": null,
   "metadata": {},
   "outputs": [],
   "source": [
    "a"
   ]
  },
  {
   "cell_type": "code",
   "execution_count": 1,
   "metadata": {},
   "outputs": [],
   "source": [
    "import nltk"
   ]
  },
  {
   "cell_type": "code",
   "execution_count": 8,
   "metadata": {},
   "outputs": [],
   "source": [
    "from nltk.parse.corenlp import CoreNLPDependencyParser\n",
    "dep_parser = CoreNLPDependencyParser(url='http://localhost:9000')"
   ]
  },
  {
   "cell_type": "code",
   "execution_count": 20,
   "metadata": {},
   "outputs": [],
   "source": [
    "parse, = dep_parser.raw_parse('acute exacerbation chronic obstructive pulmonary disease')"
   ]
  },
  {
   "cell_type": "code",
   "execution_count": 21,
   "metadata": {},
   "outputs": [
    {
     "name": "stdout",
     "output_type": "stream",
     "text": [
      "acute\tJJ\t2\tamod\n",
      "exacerbation\tNN\t0\tROOT\n",
      "chronic\tJJ\t6\tamod\n",
      "obstructive\tJJ\t6\tamod\n",
      "pulmonary\tJJ\t6\tamod\n",
      "disease\tNN\t2\tdep\n",
      "\n"
     ]
    }
   ],
   "source": [
    "print(parse.to_conll(4))  "
   ]
  },
  {
   "cell_type": "code",
   "execution_count": 22,
   "metadata": {},
   "outputs": [
    {
     "name": "stdout",
     "output_type": "stream",
     "text": [
      "(exacerbation acute (disease chronic obstructive pulmonary))\n"
     ]
    }
   ],
   "source": [
    "print(parse.tree() )"
   ]
  },
  {
   "cell_type": "code",
   "execution_count": 23,
   "metadata": {},
   "outputs": [],
   "source": [
    "from nltk import Tree"
   ]
  },
  {
   "cell_type": "code",
   "execution_count": 25,
   "metadata": {},
   "outputs": [],
   "source": [
    "o = Tree.fromstring('(exacerbation acute (disease chronic obstructive pulmonary))')"
   ]
  },
  {
   "cell_type": "code",
   "execution_count": 26,
   "metadata": {},
   "outputs": [
    {
     "name": "stdout",
     "output_type": "stream",
     "text": [
      "              exacerbation                      \n",
      "   ________________|____________                 \n",
      "  |                          disease            \n",
      "  |       ______________________|__________      \n",
      "acute chronic              obstructive pulmonary\n",
      "\n"
     ]
    }
   ],
   "source": [
    "o.pretty_print()"
   ]
  },
  {
   "cell_type": "code",
   "execution_count": 1,
   "metadata": {},
   "outputs": [],
   "source": [
    "from onmt.utils.logging import logger"
   ]
  },
  {
   "cell_type": "code",
   "execution_count": 2,
   "metadata": {},
   "outputs": [],
   "source": [
    "logger.info('hello')"
   ]
  },
  {
   "cell_type": "code",
   "execution_count": 7,
   "metadata": {},
   "outputs": [
    {
     "name": "stdout",
     "output_type": "stream",
     "text": [
      "hello\n"
     ]
    }
   ],
   "source": [
    "%%bash\n",
    "python log.py"
   ]
  },
  {
   "cell_type": "code",
   "execution_count": 1,
   "metadata": {},
   "outputs": [],
   "source": [
    "from build_data import tbx2domain"
   ]
  },
  {
   "cell_type": "code",
   "execution_count": 2,
   "metadata": {},
   "outputs": [],
   "source": [
    "dick = tbx2domain('/floyd/input/data/IATE_export.tbx')"
   ]
  },
  {
   "cell_type": "code",
   "execution_count": 12,
   "metadata": {},
   "outputs": [
    {
     "data": {
      "text/plain": [
       "[17,\n",
       " 53,\n",
       " 67,\n",
       " 87,\n",
       " 98,\n",
       " 104,\n",
       " 111,\n",
       " 115,\n",
       " 118,\n",
       " 122,\n",
       " 127,\n",
       " 131,\n",
       " 135,\n",
       " 144,\n",
       " 147,\n",
       " 152,\n",
       " 153,\n",
       " 166,\n",
       " 172,\n",
       " 173,\n",
       " 174,\n",
       " 193,\n",
       " 228,\n",
       " 231,\n",
       " 233,\n",
       " 239,\n",
       " 242,\n",
       " 242,\n",
       " 245,\n",
       " 249,\n",
       " 257,\n",
       " 274,\n",
       " 304,\n",
       " 310,\n",
       " 311,\n",
       " 313,\n",
       " 330,\n",
       " 337,\n",
       " 340,\n",
       " 344,\n",
       " 357,\n",
       " 384,\n",
       " 440,\n",
       " 444,\n",
       " 447,\n",
       " 456,\n",
       " 468,\n",
       " 471,\n",
       " 488,\n",
       " 510,\n",
       " 521,\n",
       " 524,\n",
       " 532,\n",
       " 560,\n",
       " 590,\n",
       " 592,\n",
       " 603,\n",
       " 605,\n",
       " 616,\n",
       " 623,\n",
       " 655,\n",
       " 722,\n",
       " 745,\n",
       " 785,\n",
       " 790,\n",
       " 831,\n",
       " 868,\n",
       " 984,\n",
       " 1007,\n",
       " 1100,\n",
       " 1124,\n",
       " 1129,\n",
       " 1140,\n",
       " 1153,\n",
       " 1157,\n",
       " 1160,\n",
       " 1179,\n",
       " 1212,\n",
       " 1278,\n",
       " 1319,\n",
       " 1334,\n",
       " 1403,\n",
       " 1510,\n",
       " 1639,\n",
       " 1761,\n",
       " 1850,\n",
       " 1903,\n",
       " 1973,\n",
       " 2017,\n",
       " 2050,\n",
       " 2060,\n",
       " 2163,\n",
       " 2218,\n",
       " 2224,\n",
       " 2491,\n",
       " 2726,\n",
       " 2802,\n",
       " 3106,\n",
       " 3141,\n",
       " 3184,\n",
       " 3424,\n",
       " 3431,\n",
       " 4052,\n",
       " 4081,\n",
       " 4110,\n",
       " 4266,\n",
       " 4341,\n",
       " 4368,\n",
       " 4417,\n",
       " 4630,\n",
       " 5157,\n",
       " 5174,\n",
       " 5346,\n",
       " 5364,\n",
       " 5534,\n",
       " 5717,\n",
       " 5941,\n",
       " 6133,\n",
       " 6349,\n",
       " 6359,\n",
       " 6671,\n",
       " 7563,\n",
       " 8217,\n",
       " 8337,\n",
       " 8924,\n",
       " 9686,\n",
       " 9754,\n",
       " 11912,\n",
       " 12129,\n",
       " 12213,\n",
       " 15632,\n",
       " 16555,\n",
       " 21800,\n",
       " 22771,\n",
       " 24034,\n",
       " 26451,\n",
       " 28689,\n",
       " 30737,\n",
       " 32084,\n",
       " 34064,\n",
       " 34375,\n",
       " 35327,\n",
       " 36321,\n",
       " 38469,\n",
       " 41643,\n",
       " 42163,\n",
       " 45144,\n",
       " 50380,\n",
       " 91213]"
      ]
     },
     "execution_count": 12,
     "metadata": {},
     "output_type": "execute_result"
    }
   ],
   "source": [
    "l = [len(v) for k, v in dick.items()]\n",
    "sorted(l)"
   ]
  },
  {
   "cell_type": "code",
   "execution_count": 10,
   "metadata": {},
   "outputs": [],
   "source": [
    "import xml.etree.ElementTree as ET\n",
    "tree = ET.parse('/floyd/input/data/IATE_export.tbx')"
   ]
  },
  {
   "cell_type": "code",
   "execution_count": 12,
   "metadata": {},
   "outputs": [],
   "source": [
    "root = tree.getroot()\n",
    "term = next(root[1][0].iter('termEntry'))"
   ]
  },
  {
   "cell_type": "code",
   "execution_count": 16,
   "metadata": {},
   "outputs": [
    {
     "data": {
      "text/plain": [
       "<Element 'descripGrp' at 0x7fc7bbb2de58>"
      ]
     },
     "execution_count": 16,
     "metadata": {},
     "output_type": "execute_result"
    }
   ],
   "source": [
    "term.find('descripGrp')"
   ]
  },
  {
   "cell_type": "code",
   "execution_count": 21,
   "metadata": {},
   "outputs": [
    {
     "data": {
      "text/plain": [
       "1011"
      ]
     },
     "execution_count": 21,
     "metadata": {},
     "output_type": "execute_result"
    }
   ],
   "source": [
    "int(term.find('descripGrp')[0].text)"
   ]
  },
  {
   "cell_type": "code",
   "execution_count": null,
   "metadata": {},
   "outputs": [],
   "source": []
  }
 ],
 "metadata": {
  "kernelspec": {
   "display_name": "Python 3",
   "language": "python",
   "name": "python3"
  },
  "language_info": {
   "codemirror_mode": {
    "name": "ipython",
    "version": 3
   },
   "file_extension": ".py",
   "mimetype": "text/x-python",
   "name": "python",
   "nbconvert_exporter": "python",
   "pygments_lexer": "ipython3",
   "version": "3.6.5"
  }
 },
 "nbformat": 4,
 "nbformat_minor": 2
}
